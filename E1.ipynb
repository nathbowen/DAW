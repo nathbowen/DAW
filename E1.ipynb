{
  "nbformat": 4,
  "nbformat_minor": 0,
  "metadata": {
    "colab": {
      "provenance": [],
      "authorship_tag": "ABX9TyN4w5D//d/p7ZZIlUvc2cIO",
      "include_colab_link": true
    },
    "kernelspec": {
      "name": "python3",
      "display_name": "Python 3"
    },
    "language_info": {
      "name": "python"
    }
  },
  "cells": [
    {
      "cell_type": "markdown",
      "metadata": {
        "id": "view-in-github",
        "colab_type": "text"
      },
      "source": [
        "<a href=\"https://colab.research.google.com/github/nathbowen/DAW/blob/main/E1.ipynb\" target=\"_parent\"><img src=\"https://colab.research.google.com/assets/colab-badge.svg\" alt=\"Open In Colab\"/></a>"
      ]
    },
    {
      "cell_type": "code",
      "execution_count": null,
      "metadata": {
        "id": "r_8aDcGXK2R1"
      },
      "outputs": [],
      "source": [
        "INDICE DE MASA CORPORAL\n",
        "\n",
        "#@title Cálculo del IMC { run: \"auto\" }\n",
        "estatura = 1.63 #@param {type:\"number\"}\n",
        "peso = 80 #@param {type:\"number\"}\n",
        "imc=peso/estatura**2\n",
        "print(imc)"
      ]
    },
    {
      "cell_type": "markdown",
      "source": [],
      "metadata": {
        "id": "1d3_MaxXLdIT"
      }
    }
  ]
}